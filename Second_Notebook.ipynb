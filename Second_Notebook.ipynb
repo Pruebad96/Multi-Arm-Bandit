{
 "cells": [
  {
   "cell_type": "code",
   "execution_count": 2,
   "metadata": {
    "collapsed": true
   },
   "outputs": [],
   "source": [
    "#Let's include some common libraries\n",
    "import numpy as np\n",
    "import pandas as pd\n",
    "import time\n",
    "import matplotlib\n",
    "import matplotlib.pyplot as plt\n",
    "from random import randint,gauss,random\n",
    "matplotlib.style.use('bmh')\n",
    "%matplotlib inline"
   ]
  },
  {
   "cell_type": "markdown",
   "metadata": {},
   "source": [
    "<h1 style=\"text-align:center\">k-Arm Bandit Problem</h1>\n",
    "<img style=\"margin-left:320px\" src=\"https://blogs.mathworks.com/images/loren/2016/multiarmedbandit.jpg\">"
   ]
  },
  {
   "cell_type": "markdown",
   "metadata": {},
   "source": [
    "<div style=\"text-align:center\">\n",
    "    <h4>Let's define k-Arm Distributions, when k is equal to 10\n",
    "        <br>Assumptions: Value Functions have Normal Distributions<br>\n",
    "    </h4>\n",
    "</div>"
   ]
  },
  {
   "cell_type": "code",
   "execution_count": 35,
   "metadata": {
    "collapsed": true
   },
   "outputs": [],
   "source": [
    "#Expected Values Vector:\n",
    "expct_Val = np.array([5,2,8,0.5,0.1,10,5,4,8,2])\n",
    "#Number of Observations:\n",
    "n_obs = 1000"
   ]
  },
  {
   "cell_type": "markdown",
   "metadata": {},
   "source": [
    "<h2>Sample Average Method</h2>"
   ]
  },
  {
   "cell_type": "code",
   "execution_count": null,
   "metadata": {
    "collapsed": true
   },
   "outputs": [],
   "source": [
    "#First exploratory:\n",
    "arm_Index = randint(0, 9)\n",
    "#Matrix of got Values:\n",
    "obs = np.zeros((n_obs,2))\n",
    "#Aproximated Function Value Vector\n",
    "#Q_star = np.ones(10)*15\n",
    "Q_star = np.zeros(10)\n",
    "#bool of exploration decition:\n",
    "will_Explore = True\n",
    "#Start counting time of execution:\n",
    "SAM_start_time = time.time()\n",
    "#Loop of the Agent interaction\n",
    "for i in range(n_obs):\n",
    "    ################################################################\n",
    "    obs[i,0] = gauss(expct_Val[arm_Index],expct_Val[arm_Index]*0.05)\n",
    "    obs[i,1] = arm_Index\n",
    "    ################################################################\n",
    "    num = 0\n",
    "    den = 0\n",
    "    for j in range(i):\n",
    "        one_Predicate = (obs[j,1] == arm_Index)\n",
    "        num += obs[j,0]*one_Predicate\n",
    "        den += 1*one_Predicate\n",
    "    if(den==0):\n",
    "        Q_star[arm_Index] = 0\n",
    "    else:\n",
    "        Q_star[arm_Index] = num/den\n",
    "    ################################################################\n",
    "    if(will_Explore):\n",
    "        arm_Index = randint(0, 9)\n",
    "    else:\n",
    "        arm_Index = np.argmax(Q_star)\n",
    "    ################################################################\n",
    "    will_Explore = (random()<=0.2)\n",
    "    ################################################################\n",
    "#Print the time of execution:\n",
    "SAM_finish_time = time.time()\n",
    "print(\"--- It took %s seconds ---\" % (SAM_finish_time - SAM_start_time))\n",
    "#Plot the observed data:\n",
    "plt.figure()\n",
    "plt.plot(np.arange(n_obs),obs[:,0])"
   ]
  },
  {
   "cell_type": "code",
   "execution_count": null,
   "metadata": {
    "collapsed": true
   },
   "outputs": [],
   "source": [
    "#Vector of gotten Values (which were aproximated by the algorithm)\n",
    "Q_star"
   ]
  },
  {
   "cell_type": "code",
   "execution_count": null,
   "metadata": {
    "collapsed": true
   },
   "outputs": [],
   "source": [
    "#Get some information about the observations that the agent did\n",
    "u, N = np.unique(obs[:,1], return_counts=True)\n",
    "#Number of observations per value distribution\n",
    "N"
   ]
  },
  {
   "cell_type": "code",
   "execution_count": null,
   "metadata": {
    "collapsed": true
   },
   "outputs": [],
   "source": [
    "#Plot the probability distribution:\n",
    "plt.figure()\n",
    "plt.plot(np.arange(10),N)"
   ]
  },
  {
   "cell_type": "markdown",
   "metadata": {},
   "source": [
    "<h2>Incremental Implementation Method</h2>"
   ]
  },
  {
   "cell_type": "code",
   "execution_count": null,
   "metadata": {
    "collapsed": true
   },
   "outputs": [],
   "source": [
    "#First exploratory:\n",
    "arm_Index = randint(0, 9)\n",
    "#Matrix of got Values:\n",
    "obs = np.zeros(n_obs)\n",
    "#Aproximated Function Value Vector\n",
    "Q_star = np.zeros(10)\n",
    "#Optimistic Initial Value\n",
    "#Q_star = np.ones(10)*20\n",
    "#Number of observations per value distribution\n",
    "N = np.zeros(10)\n",
    "#bool of exploration decition:\n",
    "will_Explore = True\n",
    "#Reward inicialization:\n",
    "crrn_Reward = 0\n",
    "#Alpha StepSize Value\n",
    "alpha = 0.1\n",
    "#Start counting time of execution:\n",
    "IIM_start_time = time.time()\n",
    "#Loop of the Agent interaction\n",
    "for i in range(n_obs):\n",
    "    ####################################################################\n",
    "    will_Explore = (random()<=0.1)\n",
    "    if(will_Explore):\n",
    "        arm_Index = randint(0, 9)\n",
    "    else:\n",
    "        arm_Index = np.argmax(Q_star)\n",
    "    ####################################################################\n",
    "    # R <-- bandit(A)\n",
    "    crrn_Reward = gauss(expct_Val[arm_Index],expct_Val[arm_Index]*0.05)\n",
    "    #In memory\n",
    "    obs[i] = crrn_Reward\n",
    "    # N(A) <-- N(A) + 1\n",
    "    N[arm_Index] += 1\n",
    "    # Q(A) <-- Q(A) + 1/N(A)*[R-Q(A)]\n",
    "    Q_star[arm_Index] += (crrn_Reward - Q_star[arm_Index])/N[arm_Index]\n",
    "    # Q(A) <-- Q(A) + alpha*[R-Q(A)]\n",
    "    #Q_star[arm_Index] += alpha*(crrn_Reward - Q_star[arm_Index])\n",
    "    ####################################################################\n",
    "    #expct_Val += np.random.normal(0,0.01,10)\n",
    "#Print the time of execution:\n",
    "IIM_finish_time = time.time()\n",
    "print(\"--- It took %s seconds ---\" % (IIM_finish_time - IIM_start_time))\n",
    "#Plot the observed data:\n",
    "plt.figure()\n",
    "plt.plot(np.arange(n_obs),obs)"
   ]
  },
  {
   "cell_type": "code",
   "execution_count": null,
   "metadata": {
    "collapsed": true
   },
   "outputs": [],
   "source": [
    "#Vector of gotten Values (which were aproximated by the algorithm)\n",
    "Q_star"
   ]
  },
  {
   "cell_type": "code",
   "execution_count": null,
   "metadata": {
    "collapsed": true
   },
   "outputs": [],
   "source": [
    "#Number of observations per value distribution\n",
    "N"
   ]
  },
  {
   "cell_type": "code",
   "execution_count": null,
   "metadata": {
    "collapsed": true
   },
   "outputs": [],
   "source": [
    "#Plot the probability distribution:\n",
    "plt.figure()\n",
    "plt.plot(np.arange(10),N)"
   ]
  },
  {
   "cell_type": "markdown",
   "metadata": {
    "collapsed": true
   },
   "source": [
    "<h2>Upper Confidence-Bound (UCB) Action Selection</h2>"
   ]
  },
  {
   "cell_type": "code",
   "execution_count": null,
   "metadata": {
    "collapsed": true
   },
   "outputs": [],
   "source": [
    "#First exploratory:\n",
    "arm_Index = randint(0, 9)\n",
    "#Matrix of got Values:\n",
    "obs = np.zeros(n_obs)\n",
    "#Aproximated Function Value Vector\n",
    "Q_star = np.zeros(10)\n",
    "#Optimistic Initial Value\n",
    "#Q_star = np.ones(10)*20\n",
    "#Number of observations per value distribution\n",
    "N = np.zeros(10)\n",
    "#bool of exploration decition:\n",
    "will_Explore = True\n",
    "#Reward inicialization:\n",
    "crrn_Reward = 0\n",
    "#Alpha StepSize Value\n",
    "alpha = 0.1\n",
    "#Degree of exploration\n",
    "c = 2\n",
    "#Start counting time of execution:\n",
    "UCB_start_time = time.time()\n",
    "#Loop of the Agent interaction\n",
    "for i in range(n_obs):\n",
    "    ###################################################################################\n",
    "    will_Explore = False\n",
    "    if(will_Explore):\n",
    "        arm_Index = randint(0, 9)\n",
    "    else:\n",
    "        arm_Index = np.argmax(Q_star + c*np.sqrt(np.divide(np.log(i*np.ones(10)),N)))\n",
    "    ##################################################################################\n",
    "    # R <-- bandit(A)\n",
    "    crrn_Reward = gauss(expct_Val[arm_Index],expct_Val[arm_Index]*0.05)\n",
    "    #In memory\n",
    "    obs[i] = crrn_Reward\n",
    "    # N(A) <-- N(A) + 1\n",
    "    N[arm_Index] += 1\n",
    "    # Q(A) <-- Q(A) + 1/N(A)*[R-Q(A)]\n",
    "    Q_star[arm_Index] += (crrn_Reward - Q_star[arm_Index])/N[arm_Index]\n",
    "    # Q(A) <-- Q(A) + alpha*[R-Q(A)]\n",
    "    #Q_star[arm_Index] += alpha*(crrn_Reward - Q_star[arm_Index])\n",
    "    ##################################################################################\n",
    "    #expct_Val += np.random.normal(0,0.01,10)\n",
    "#Print the time of execution:\n",
    "UCB_finish_time = time.time()\n",
    "print(\"--- It took %s seconds ---\" % (UCB_finish_time - UCB_start_time))\n",
    "#Plot the observed data:\n",
    "plt.figure()\n",
    "plt.plot(np.arange(n_obs),obs)"
   ]
  },
  {
   "cell_type": "code",
   "execution_count": null,
   "metadata": {
    "collapsed": true
   },
   "outputs": [],
   "source": [
    "#Vector of gotten Values (which were aproximated by the algorithm)\n",
    "Q_star"
   ]
  },
  {
   "cell_type": "code",
   "execution_count": null,
   "metadata": {
    "collapsed": true
   },
   "outputs": [],
   "source": [
    "#Number of observations per value distribution\n",
    "N"
   ]
  },
  {
   "cell_type": "code",
   "execution_count": null,
   "metadata": {
    "collapsed": true
   },
   "outputs": [],
   "source": [
    "#Plot the probability distribution:\n",
    "plt.figure()\n",
    "plt.plot(np.arange(10),N)"
   ]
  },
  {
   "cell_type": "markdown",
   "metadata": {},
   "source": [
    "<h2>Testing the algorithm in a more complex system</h2>"
   ]
  },
  {
   "cell_type": "code",
   "execution_count": 65,
   "metadata": {
    "collapsed": true
   },
   "outputs": [],
   "source": [
    "def policy(Q_star,N,t):\n",
    "    #First exploratory:\n",
    "    arm_Index = randint(0, 2)\n",
    "    #bool of exploration decition:\n",
    "    will_Explore = False\n",
    "    #Alpha StepSize Value\n",
    "    alpha = 0.1\n",
    "    #Degree of exploration\n",
    "    c = 2\n",
    "    ####################################################################\n",
    "    if(will_Explore):\n",
    "        arm_Index = randint(0, 2)\n",
    "    else:\n",
    "        arm_Index = np.argmax(Q_star + c*np.sqrt(np.divide(np.log(t*np.ones(3)),N)))\n",
    "    ####################################################################\n",
    "    return arm_Index"
   ]
  },
  {
   "cell_type": "code",
   "execution_count": 66,
   "metadata": {},
   "outputs": [
    {
     "name": "stdout",
     "output_type": "stream",
     "text": [
      "\u001b[33mWARN: gym.spaces.Box autodetected dtype as <class 'numpy.float32'>. Please provide explicit dtype.\u001b[0m\n"
     ]
    },
    {
     "name": "stderr",
     "output_type": "stream",
     "text": [
      "C:\\Users\\lukin\\Anaconda3\\envs\\IA_UNI_env\\lib\\site-packages\\ipykernel_launcher.py:14: RuntimeWarning: divide by zero encountered in log\n",
      "  \n",
      "C:\\Users\\lukin\\Anaconda3\\envs\\IA_UNI_env\\lib\\site-packages\\ipykernel_launcher.py:14: RuntimeWarning: invalid value encountered in sqrt\n",
      "  \n",
      "C:\\Users\\lukin\\Anaconda3\\envs\\IA_UNI_env\\lib\\site-packages\\ipykernel_launcher.py:14: RuntimeWarning: invalid value encountered in true_divide\n",
      "  \n",
      "C:\\Users\\lukin\\Anaconda3\\envs\\IA_UNI_env\\lib\\site-packages\\ipykernel_launcher.py:14: RuntimeWarning: divide by zero encountered in true_divide\n",
      "  \n"
     ]
    }
   ],
   "source": [
    "#Open AI library\n",
    "import gym\n",
    "#Create environment\n",
    "env = gym.make(\"MountainCar-v0\")\n",
    "#Set the initial conditions of the environment\n",
    "env.reset()\n",
    "#Number of Observations:\n",
    "n_obs = 10000\n",
    "#Number of observations per value distribution\n",
    "N = np.zeros(3)\n",
    "#Aproximated Function Value Vector\n",
    "Q_star = np.zeros(3)\n",
    "#Goal:\n",
    "goal = np.array([0.52502119,0.02621402])\n",
    "for t in range(n_obs):\n",
    "    #Get the action from the UCB algorithm\n",
    "    a = policy(Q_star,N,t)\n",
    "    #Perform the given value\n",
    "    state, reward, done, _ = env.step(a)\n",
    "    #Define a new reward\n",
    "    dist = np.sum(np.sqrt(goal - np.array(state)))\n",
    "    reward -= dist\n",
    "    # N(A) <-- N(A) + 1\n",
    "    N[a] += 1\n",
    "    # Q(A) <-- Q(A) + 1/N(A)*[R-Q(A)]\n",
    "    Q_star[a] += (reward - Q_star[a])/N[a]\n",
    "    #Let's watch the simulation!\n",
    "    env.render('rgb_array')\n",
    "env.close()"
   ]
  },
  {
   "cell_type": "markdown",
   "metadata": {
    "collapsed": true
   },
   "source": [
    "<h2>Gradient Bandit Algorithm</h2>"
   ]
  },
  {
   "cell_type": "code",
   "execution_count": 33,
   "metadata": {
    "collapsed": true
   },
   "outputs": [],
   "source": [
    "#Function which maps Probability Vector to Asigned Index:\n",
    "def get_Index_from_Prob(prob):\n",
    "    el_num = random()\n",
    "    r_inf = 0\n",
    "    r_sup = 0\n",
    "    for i in range (prob.shape[0]): \n",
    "        r_sup = r_inf +prob[i]\n",
    "        if(el_num >= r_inf and el_num<r_sup):\n",
    "            index = i\n",
    "            break\n",
    "        r_inf = r_sup\n",
    "    return index"
   ]
  },
  {
   "cell_type": "code",
   "execution_count": 64,
   "metadata": {},
   "outputs": [
    {
     "name": "stdout",
     "output_type": "stream",
     "text": [
      "--- It took 0.03131723403930664 seconds ---\n"
     ]
    },
    {
     "data": {
      "text/plain": [
       "[<matplotlib.lines.Line2D at 0x2017fcbfb00>]"
      ]
     },
     "execution_count": 64,
     "metadata": {},
     "output_type": "execute_result"
    },
    {
     "data": {
      "image/png": "[encoded data removed]",
      "text/plain": [
       "<matplotlib.figure.Figure at 0x2017fc4abe0>"
      ]
     },
     "metadata": {},
     "output_type": "display_data"
    }
   ],
   "source": [
    "#Numerical Preference Vector:\n",
    "H = np.zeros(10);\n",
    "#Probability Vector:\n",
    "pi_prob = np.exp(H)/np.sum(np.exp(H))\n",
    "#First exploratory:\n",
    "arm_Index = np.zeros(10)\n",
    "#Matrix of got Values:\n",
    "obs_R = np.zeros(n_obs)\n",
    "#Number of observations per value distribution\n",
    "N = np.zeros(10)\n",
    "#Reward inicialization:\n",
    "crrn_Reward = 0\n",
    "#Alpha StepSize Value\n",
    "alpha = 0.1\n",
    "#Start counting time of execution:\n",
    "GBA_start_time = time.time()\n",
    "#Loop of the Agent interaction\n",
    "for i in range(n_obs):\n",
    "    ####################################################################\n",
    "    arm_Index = get_Index_from_Prob(pi_prob)\n",
    "    ####################################################################\n",
    "    # R <-- bandit(A)\n",
    "    crrn_Reward = gauss(expct_Val[arm_Index],expct_Val[arm_Index]*0.05)\n",
    "    #In memory\n",
    "    obs_R[i] = crrn_Reward\n",
    "    # N(A) <-- N(A) + 1\n",
    "    N[arm_Index] += 1\n",
    "    #H(t+1) = H(t) + alpha*(1a=A-PIt(At))*(Rt-Rpromt)\n",
    "    #Baseline Reward:\n",
    "    R_base = np.sum(obs_R)/(i+1)\n",
    "    # First H(A) = H(A0) - alpha(PIt(At))*(Rt-Rpromt) for each A=ak\n",
    "    # Then H(A=a) = H(A=a) + alpha*(Rt-Rpromt)\n",
    "    # So that H(A=a) = H(A=a) + alpha*(Rt-Rpromt)*(1-PIt(At))\n",
    "    H -= alpha*(pi_prob)*(crrn_Reward-R_base)\n",
    "    H[arm_Index] += alpha*(crrn_Reward-R_base)\n",
    "    #Update the Probability Vector\n",
    "    pi_prob = np.exp(H)/np.sum(np.exp(H))\n",
    "    ####################################################################\n",
    "#Print the time of execution:\n",
    "GBA_finish_time = time.time()\n",
    "print(\"--- It took %s seconds ---\" % (GBA_finish_time - GBA_start_time))\n",
    "#Plot the observed data:\n",
    "plt.figure()\n",
    "plt.plot(np.arange(n_obs),obs_R)"
   ]
  },
  {
   "cell_type": "code",
   "execution_count": null,
   "metadata": {},
   "outputs": [],
   "source": []
  },
  {
   "cell_type": "code",
   "execution_count": null,
   "metadata": {},
   "outputs": [],
   "source": []
  }
 ],
 "metadata": {
  "kernelspec": {
   "display_name": "Python 3",
   "language": "python",
   "name": "python3"
  },
  "language_info": {
   "codemirror_mode": {
    "name": "ipython",
    "version": 3
   },
   "file_extension": ".py",
   "mimetype": "text/x-python",
   "name": "python",
   "nbconvert_exporter": "python",
   "pygments_lexer": "ipython3",
   "version": "3.6.2"
  }
 },
 "nbformat": 4,
 "nbformat_minor": 2
}
